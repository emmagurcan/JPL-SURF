{
 "cells": [
  {
   "cell_type": "code",
   "execution_count": 1,
   "id": "355533d4",
   "metadata": {},
   "outputs": [],
   "source": [
    "import numpy as np\n",
    "import matplotlib.pyplot as plt\n",
    "import matplotlib as mpl\n",
    "import xarray as xr                      \n",
    "import cartopy.crs as ccrs\n",
    "import cartopy.feature as cfeature\n",
    "import glob\n",
    "from datetime import date, time, datetime \n",
    "import pandas as pd \n",
    "import netCDF4 as net\n",
    "from netCDF4 import num2date\n",
    "import scipy.io\n",
    "from scipy.io import loadmat\n",
    "from scipy import interpolate\n",
    "import datetime as dt\n",
    "import math"
   ]
  },
  {
   "cell_type": "code",
   "execution_count": 2,
   "id": "28818c5e",
   "metadata": {},
   "outputs": [],
   "source": [
    "model = scipy.io.loadmat('Routine_v020721.mat')\n",
    "alongtrack = xr.open_dataset('/Users/emmagurcan/Documents/JPL 2021/along-track data/Sentinel3A_NRT_2019_2020.nc')"
   ]
  },
  {
   "cell_type": "code",
   "execution_count": 6,
   "id": "df449990",
   "metadata": {},
   "outputs": [],
   "source": [
    " # extract variables from the dataset\n",
    "alongtrack_adt = alongtrack['adt']\n",
    "alongtrack_lon = alongtrack['longitude']\n",
    "alongtrack_lat = alongtrack['latitude']\n",
    "alongtrack_time = alongtrack['time']\n",
    "\n",
    "model_lon = model['lon']\n",
    "model_lat = model['lat']\n",
    "model_adt = model['adt2']\n",
    "model_time = model['t']\n",
    "\n",
    "alon = alongtrack_lon.values\n",
    "alat = alongtrack_lat.values\n",
    "\n",
    "x = model_lon\n",
    "y = model_lat\n",
    "t = model_time[0]\n",
    "z = model_adt[:, :, 0]\n",
    "\n",
    "x_new = np.ndarray(shape=(342,72))\n",
    "y_new = np.ndarray(shape=(342,72))\n",
    "\n",
    "# slice alongtrack data to fit model data's coordinate restrictions\n",
    "ix = 0\n",
    "jy = 25\n",
    "c = 0\n",
    "for jy in range(len(alon[0,:])):\n",
    "    while ix < len(alon):\n",
    "        if alon[ix,jy] <= (np.max(model_lon)) and alon[ix,jy] >= (np.min(model_lon)) and alat[ix,jy] <= (np.max(model_lat)) and alat[ix,jy] >= (np.min(model_lat)):\n",
    "            x_new[c,jy] = alon[ix,jy]\n",
    "            y_new[c,jy] = alat[ix,jy]\n",
    "            c += 1\n",
    "        ix += 1\n",
    "    c = 0\n",
    "    ix = 0"
   ]
  },
  {
   "cell_type": "code",
   "execution_count": 7,
   "id": "40a9ad41",
   "metadata": {},
   "outputs": [],
   "source": [
    "# modifying lon/lat approach 1 --> np.append\n",
    "# the goal is to turn the x_new and y_new arrays of shape (342, 72) to (342, 72, 14)"
   ]
  },
  {
   "cell_type": "code",
   "execution_count": 8,
   "id": "3a3a8ba7",
   "metadata": {},
   "outputs": [
    {
     "name": "stdout",
     "output_type": "stream",
     "text": [
      "(342, 72)\n"
     ]
    }
   ],
   "source": [
    "print(np.shape(x_new))"
   ]
  },
  {
   "cell_type": "code",
   "execution_count": 9,
   "id": "48dc3602",
   "metadata": {},
   "outputs": [],
   "source": [
    "x_new = x_new[:, :, np.newaxis] "
   ]
  },
  {
   "cell_type": "code",
   "execution_count": 10,
   "id": "fd77ca65",
   "metadata": {},
   "outputs": [
    {
     "name": "stdout",
     "output_type": "stream",
     "text": [
      "(342, 72, 1)\n"
     ]
    }
   ],
   "source": [
    "print(np.shape(x_new))"
   ]
  },
  {
   "cell_type": "code",
   "execution_count": 11,
   "id": "e23802b0",
   "metadata": {},
   "outputs": [
    {
     "data": {
      "text/plain": [
       "array([ 6.94161189e-310, -1.24259808e+002, -1.26228284e+002, ...,\n",
       "        0.00000000e+000,  0.00000000e+000,  0.00000000e+000])"
      ]
     },
     "execution_count": 11,
     "metadata": {},
     "output_type": "execute_result"
    }
   ],
   "source": [
    "np.append(x_new, x_new)"
   ]
  },
  {
   "cell_type": "code",
   "execution_count": 12,
   "id": "83ba9486",
   "metadata": {},
   "outputs": [
    {
     "name": "stdout",
     "output_type": "stream",
     "text": [
      "(342, 72, 1)\n"
     ]
    }
   ],
   "source": [
    "print(np.shape(x_new))"
   ]
  },
  {
   "cell_type": "code",
   "execution_count": 13,
   "id": "78465835",
   "metadata": {},
   "outputs": [],
   "source": [
    "# modifying lon/lat approach 2 --> np.stack"
   ]
  },
  {
   "cell_type": "code",
   "execution_count": 14,
   "id": "d05fe779",
   "metadata": {},
   "outputs": [],
   "source": [
    "x_new.shape = (342, 72)\n",
    "c = x_new"
   ]
  },
  {
   "cell_type": "code",
   "execution_count": 15,
   "id": "f6dbffeb",
   "metadata": {},
   "outputs": [
    {
     "name": "stdout",
     "output_type": "stream",
     "text": [
      "(342, 72)\n"
     ]
    }
   ],
   "source": [
    "print(np.shape(x_new))"
   ]
  },
  {
   "cell_type": "code",
   "execution_count": 16,
   "id": "82849272",
   "metadata": {},
   "outputs": [
    {
     "ename": "TypeError",
     "evalue": "only integer scalar arrays can be converted to a scalar index",
     "output_type": "error",
     "traceback": [
      "\u001b[0;31m---------------------------------------------------------------------------\u001b[0m",
      "\u001b[0;31mTypeError\u001b[0m                                 Traceback (most recent call last)",
      "\u001b[0;32m<ipython-input-16-06041d6cbdf6>\u001b[0m in \u001b[0;36m<module>\u001b[0;34m\u001b[0m\n\u001b[1;32m      1\u001b[0m \u001b[0;32mfor\u001b[0m \u001b[0mi\u001b[0m \u001b[0;32min\u001b[0m \u001b[0mrange\u001b[0m\u001b[0;34m(\u001b[0m\u001b[0;36m14\u001b[0m\u001b[0;34m)\u001b[0m\u001b[0;34m:\u001b[0m\u001b[0;34m\u001b[0m\u001b[0;34m\u001b[0m\u001b[0m\n\u001b[0;32m----> 2\u001b[0;31m     \u001b[0mnp\u001b[0m\u001b[0;34m.\u001b[0m\u001b[0mstack\u001b[0m\u001b[0;34m(\u001b[0m\u001b[0mx_new\u001b[0m\u001b[0;34m,\u001b[0m \u001b[0mc\u001b[0m\u001b[0;34m)\u001b[0m\u001b[0;34m\u001b[0m\u001b[0;34m\u001b[0m\u001b[0m\n\u001b[0m",
      "\u001b[0;32m<__array_function__ internals>\u001b[0m in \u001b[0;36mstack\u001b[0;34m(*args, **kwargs)\u001b[0m\n",
      "\u001b[0;32m~/opt/anaconda3/lib/python3.8/site-packages/numpy/core/shape_base.py\u001b[0m in \u001b[0;36mstack\u001b[0;34m(arrays, axis, out)\u001b[0m\n\u001b[1;32m    427\u001b[0m \u001b[0;34m\u001b[0m\u001b[0m\n\u001b[1;32m    428\u001b[0m     \u001b[0mresult_ndim\u001b[0m \u001b[0;34m=\u001b[0m \u001b[0marrays\u001b[0m\u001b[0;34m[\u001b[0m\u001b[0;36m0\u001b[0m\u001b[0;34m]\u001b[0m\u001b[0;34m.\u001b[0m\u001b[0mndim\u001b[0m \u001b[0;34m+\u001b[0m \u001b[0;36m1\u001b[0m\u001b[0;34m\u001b[0m\u001b[0;34m\u001b[0m\u001b[0m\n\u001b[0;32m--> 429\u001b[0;31m     \u001b[0maxis\u001b[0m \u001b[0;34m=\u001b[0m \u001b[0mnormalize_axis_index\u001b[0m\u001b[0;34m(\u001b[0m\u001b[0maxis\u001b[0m\u001b[0;34m,\u001b[0m \u001b[0mresult_ndim\u001b[0m\u001b[0;34m)\u001b[0m\u001b[0;34m\u001b[0m\u001b[0;34m\u001b[0m\u001b[0m\n\u001b[0m\u001b[1;32m    430\u001b[0m \u001b[0;34m\u001b[0m\u001b[0m\n\u001b[1;32m    431\u001b[0m     \u001b[0msl\u001b[0m \u001b[0;34m=\u001b[0m \u001b[0;34m(\u001b[0m\u001b[0mslice\u001b[0m\u001b[0;34m(\u001b[0m\u001b[0;32mNone\u001b[0m\u001b[0;34m)\u001b[0m\u001b[0;34m,\u001b[0m\u001b[0;34m)\u001b[0m \u001b[0;34m*\u001b[0m \u001b[0maxis\u001b[0m \u001b[0;34m+\u001b[0m \u001b[0;34m(\u001b[0m\u001b[0m_nx\u001b[0m\u001b[0;34m.\u001b[0m\u001b[0mnewaxis\u001b[0m\u001b[0;34m,\u001b[0m\u001b[0;34m)\u001b[0m\u001b[0;34m\u001b[0m\u001b[0;34m\u001b[0m\u001b[0m\n",
      "\u001b[0;31mTypeError\u001b[0m: only integer scalar arrays can be converted to a scalar index"
     ]
    }
   ],
   "source": [
    "for i in range(14):\n",
    "    np.stack(x_new, c)"
   ]
  },
  {
   "cell_type": "code",
   "execution_count": null,
   "id": "29e407f9",
   "metadata": {},
   "outputs": [],
   "source": [
    "print(np.shape(x_new))"
   ]
  }
 ],
 "metadata": {
  "kernelspec": {
   "display_name": "Python 3",
   "language": "python",
   "name": "python3"
  },
  "language_info": {
   "codemirror_mode": {
    "name": "ipython",
    "version": 3
   },
   "file_extension": ".py",
   "mimetype": "text/x-python",
   "name": "python",
   "nbconvert_exporter": "python",
   "pygments_lexer": "ipython3",
   "version": "3.8.8"
  }
 },
 "nbformat": 4,
 "nbformat_minor": 5
}
